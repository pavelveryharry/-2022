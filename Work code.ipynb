{
 "cells": [
  {
   "cell_type": "code",
   "execution_count": 89,
   "id": "9c87b370",
   "metadata": {
    "scrolled": false
   },
   "outputs": [
    {
     "name": "stdout",
     "output_type": "stream",
     "text": [
      "эффективность =  0.9166\n"
     ]
    },
    {
     "data": {
      "image/png": "[encoded data removed]",
      "text/plain": [
       "<Figure size 432x288 with 1 Axes>"
      ]
     },
     "metadata": {
      "needs_background": "light"
     },
     "output_type": "display_data"
    }
   ],
   "source": [
    "import numpy\n",
    "import scipy.special\n",
    "import matplotlib.pyplot\n",
    "%matplotlib inline\n",
    "\n",
    "\n",
    "class neuralnet():\n",
    "    \"\"\"\"Класс нейронная сеть\"\"\"\n",
    "    def __init__(self,inputnodes, hiddennodes, outputnodes, learningrate):\n",
    "        self.inodes = inputnodes\n",
    "        self.hnodes = hiddennodes\n",
    "        self.onodes = outputnodes\n",
    "        #коэфф обучения\n",
    "        self.lr = learningrate\n",
    "        # создадим матрицы связей между тремя узлами\n",
    "        self.wih = (numpy.random.rand(self.hnodes, self.inodes)-0.5)\n",
    "        self.who = (numpy.random.rand(self.onodes, self.hnodes)-0.5)\n",
    "        self.activation_function = lambda x: scipy.special.expit(x)\n",
    "        pass\n",
    "\n",
    "    def train(self,inputs_list, targets_list):\n",
    "        inputs = numpy.array(inputs_list, ndmin=2).T\n",
    "        targets = numpy.array(targets_list, ndmin=2).T\n",
    "        hidden_inputs = numpy.dot(self.wih, inputs)\n",
    "        hidden_outputs = self.activation_function(hidden_inputs)\n",
    "        final_inputs = numpy.dot(self.who, hidden_outputs)\n",
    "        final_outputs = self.activation_function(final_inputs)\n",
    "        targets = numpy.array(targets_list, ndmin=2).T\n",
    "        # считаем ошибку\n",
    "        output_errors = targets - final_outputs\n",
    "        # ошибки скрытого = веса скрыт--выход * ошибки выход\n",
    "        hidden_errors = numpy.dot(self.who.T, output_errors)\n",
    "\n",
    "        # обновляем весовые коэффициенты связей между скрытым и выходным слоями\n",
    "        self.who += self.lr * numpy.dot((output_errors * final_outputs *\n",
    "        (1.0 - final_outputs)), numpy.transpose(hidden_outputs))\n",
    "        # а теперь между входным и скрытым слоями\n",
    "        self.wih += self.lr * numpy.dot((hidden_errors*\n",
    "            hidden_outputs*(1.0-hidden_outputs)),numpy.transpose(inputs))\n",
    "        pass\n",
    "\n",
    "    def query(self, inputs_list):\n",
    "        inputs = numpy.array(inputs_list, ndmin=2).T\n",
    "        hidden_inputs = numpy.dot(self.wih,inputs)\n",
    "        hidden_outputs = self.activation_function(hidden_inputs)\n",
    "        final_inputs = numpy.dot(self.who, hidden_outputs)\n",
    "        final_outputs = self.activation_function(final_inputs)\n",
    "\n",
    "        return final_outputs\n",
    "\n",
    "def printim(all_values):\n",
    "    image_array = numpy.asfarray(all_values[1:]).reshape((28,28)) \n",
    "    matplotlib.pyplot.imshow(image_array, cmap='Greys', interpolation='None')\n",
    "    \n",
    "# Создадим нейронную сеть\n",
    "inputnodes = 784\n",
    "hiddennodes = 100\n",
    "outputnodes = 10\n",
    "learningrate = 0.3\n",
    "\n",
    "n = neuralnet(inputnodes,hiddennodes,outputnodes,learningrate)\n",
    "\n",
    "data_file = open(\"mnist_train2.csv\", 'r') \n",
    "data_list = data_file.readlines() \n",
    "data_file.close()\n",
    "\n",
    "for record in data_list:\n",
    "    all_values = record.split(',')\n",
    "    # масштабируем  и смещаем входные значения\n",
    "    inputs = (numpy.asfarray(all_values[1:]) / 255.0 * 0.99) + 0.01\n",
    "    targets = numpy.zeros(outputnodes) + 0.01\n",
    "    # all_values[0] - целевое маркерное значение для данной записи \n",
    "    targets[int(all_values[0])] =0.99\n",
    "    n.train(inputs, targets) \n",
    "    pass\n",
    "\n",
    "test_file = open(\"mnist_test.csv\", 'r') \n",
    "test_list = test_file.readlines() \n",
    "test_file.close()\n",
    "\n",
    "# протестируем на 10 данных нашу нейронную сеть\n",
    "score = []\n",
    "for record in test_list:\n",
    "    all_values = record.split(',')\n",
    "    correct_ans = int(all_values[0]) \n",
    "    #print(correct_ans, \"правильный ответ\")\n",
    "    inputs = (numpy.asfarray(all_values[1:]) / 255.0 * 0.99) + 0.01\n",
    "    outputs = n.query(inputs)\n",
    "    answer = numpy.argmax(outputs)\n",
    "    #print(answer, \"ответ сети\")\n",
    "    if (answer == correct_ans) : \n",
    "        score.append(1)\n",
    "    else:\n",
    "        score.append(0) \n",
    "    pass\n",
    "score_card = numpy.asarray(score)\n",
    "print('эффективность = ',score_card.sum()/score_card.size)"
   ]
  },
  {
   "cell_type": "code",
   "execution_count": null,
   "id": "195df95d",
   "metadata": {},
   "outputs": [],
   "source": []
  }
 ],
 "metadata": {
  "kernelspec": {
   "display_name": "Python 3 (ipykernel)",
   "language": "python",
   "name": "python3"
  },
  "language_info": {
   "codemirror_mode": {
    "name": "ipython",
    "version": 3
   },
   "file_extension": ".py",
   "mimetype": "text/x-python",
   "name": "python",
   "nbconvert_exporter": "python",
   "pygments_lexer": "ipython3",
   "version": "3.9.12"
  }
 },
 "nbformat": 4,
 "nbformat_minor": 5
}
